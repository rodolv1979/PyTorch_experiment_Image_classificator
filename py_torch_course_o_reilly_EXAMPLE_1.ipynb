{
  "nbformat": 4,
  "nbformat_minor": 0,
  "metadata": {
    "colab": {
      "name": "py_torch_course_o_reilly_EXAMPLE_1.ipynb",
      "provenance": [],
      "authorship_tag": "ABX9TyNkqN4z+zXGKNAHbR5B+qoF",
      "include_colab_link": true
    },
    "kernelspec": {
      "name": "python3",
      "display_name": "Python 3"
    },
    "language_info": {
      "name": "python"
    }
  },
  "cells": [
    {
      "cell_type": "markdown",
      "metadata": {
        "id": "view-in-github",
        "colab_type": "text"
      },
      "source": [
        "<a href=\"https://colab.research.google.com/github/rodolv1979/PyTorch_experiment_Image_classificator/blob/main/py_torch_course_o_reilly_EXAMPLE_1.ipynb\" target=\"_parent\"><img src=\"https://colab.research.google.com/assets/colab-badge.svg\" alt=\"Open In Colab\"/></a>"
      ]
    },
    {
      "cell_type": "markdown",
      "metadata": {
        "id": "ox6GEpTmtDfA"
      },
      "source": [
        "\n",
        "# **Example 1**\n",
        "First neural network\n",
        "\n",
        "Select Runtime as GPU"
      ]
    },
    {
      "cell_type": "code",
      "metadata": {
        "id": "GIE3210Nr3V9"
      },
      "source": [
        "import torch\n",
        "import torch.nn as nn \n",
        "import torch.nn.functional as F\n",
        "import torch.optim as optim\n",
        "from torchvision import datasets, transforms"
      ],
      "execution_count": 2,
      "outputs": []
    },
    {
      "cell_type": "markdown",
      "metadata": {
        "id": "cyvrPm17tQn2"
      },
      "source": [
        "# **Define the model**\n",
        "\n",
        "This model has three layers (500, 1000, 10). The last one is important, since we have 10 classes we need 10 output neurons"
      ]
    },
    {
      "cell_type": "code",
      "metadata": {
        "id": "dhKdU1NbtPto"
      },
      "source": [
        "class Net(nn.Module):\n",
        "  def __init__(self):\n",
        "    super(Net, self).__init__()\n",
        "    self.fc1 = nn.Linear(784, 500) # Please take a look seriously to those values in -> 784 and out -> 500\n",
        "    self.fc2 = nn.Linear(500, 1000) # in -> 500 and out -> 1000\n",
        "    self.fc3 = nn.Linear(1000, 10) # in -> 1000 and out 10\n",
        "\n",
        "  # This defines the forward function\n",
        "  def forward(self, x):\n",
        "    x = x.view(-1, 784) # -1 is the fitting of the input function\n",
        "    x = F.relu(self.fc1(x)) # Calculate the output of the first layer\n",
        "    x = F.relu(self.fc2(x)) # Calculate the output of the second layer\n",
        "    x = self.fc3(x) # # Calculate the output of the network\n",
        "    return F.log_softmax(x, dim=1) # Logaritmic soft_max function"
      ],
      "execution_count": 4,
      "outputs": []
    },
    {
      "cell_type": "markdown",
      "metadata": {
        "id": "YBr5gPw9xRyO"
      },
      "source": [
        "# **Loading Data**\n",
        "\n",
        "Using DataLoader and DataSet torch util classes. "
      ]
    },
    {
      "cell_type": "code",
      "metadata": {
        "id": "uKvmpNIcxiGt"
      },
      "source": [
        "train_loader = torch.utils.data.DataLoader(\n",
        "    datasets.MNIST('../data', train=True, download=True, \n",
        "                   transform=transforms.Compose([transforms.ToTensor(),\n",
        "                                                 transforms.Normalize((0.1307,), (0.3081,))\n",
        "                                                 ])),\n",
        "    batch_size=128, shuffle=True)\n",
        "\n",
        "test_loader = torch.utils.data.DataLoader(\n",
        "    datasets.MNIST('../data', train=False, \n",
        "                   transform=transforms.Compose([transforms.ToTensor(),\n",
        "                                                 transforms.Normalize((0.1307,), (0.3081,))                                                                         \n",
        "    ])),\n",
        "     batch_size=1000, shuffle=True)\n"
      ],
      "execution_count": 7,
      "outputs": []
    },
    {
      "cell_type": "markdown",
      "metadata": {
        "id": "f4VxSSno359G"
      },
      "source": [
        "# **Training and testing loops**\n",
        "\n",
        "Boilerplate code for training and testing (almost never changes)."
      ]
    },
    {
      "cell_type": "code",
      "metadata": {
        "id": "OvLKLIT14Sa0"
      },
      "source": [
        "def train(model, device, train_loader, optimizer, epoch):\n",
        "  model.train()\n",
        "  for batch_idx, (data, target) in enumerate(train_loader):\n",
        "    data, target = data.to(device), target.to(device)\n",
        "    optimizer.zero_grad()\n",
        "    output = model(data)\n",
        "    loss = F.nll_loss(output, target)\n",
        "    loss.backward()\n",
        "    optimizer.step()\n",
        "    if batch_idx % 100 == 0:\n",
        "      print('Train Epoch: {} [{}, {} ({:.0f}%)]\\tLoss: {:.6f}'.format(\n",
        "          epoch, batch_idx * len(data), len(train_loader.dataset),\n",
        "          100. * batch_idx / len(train_loader), loss.item()))\n",
        "\n",
        "def test(model, device, test_loader):\n",
        "  model.eval()\n",
        "  test_loss = 0\n",
        "  correct = 0\n",
        "  with torch.no_grad():\n",
        "    for data, target in test_loader:\n",
        "      data, target = data.to(device), target.to(device)\n",
        "      output = model(data)\n",
        "      test_loss += F.nll_loss(output, target, reduction='sum').item() # sum up batch loss\n",
        "      pred = output.argmax(dim=1, keepdim=True) # get the index of the max log-probability\n",
        "      correct += pred.eq(target.view_as(pred)).sum().item()\n",
        "  \n",
        "  test_loss /= len(test_loader.dataset)\n",
        "\n",
        "  print('\\nTest set: Average loss: {:.4f}, Accuracy: {}/{} ({:.0f}%)\\n'.format(\n",
        "      test_loss, correct, len(test_loader.dataset),\n",
        "      100. * correct / len(test_loader.dataset)))\n"
      ],
      "execution_count": 9,
      "outputs": []
    }
  ]
}